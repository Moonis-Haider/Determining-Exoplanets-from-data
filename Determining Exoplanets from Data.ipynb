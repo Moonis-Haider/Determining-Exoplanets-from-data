{
 "cells": [
  {
   "cell_type": "markdown",
   "id": "55772f3e",
   "metadata": {},
   "source": [
    "# Determining Exoplanets from Data"
   ]
  },
  {
   "cell_type": "markdown",
   "id": "7bf4f2e0",
   "metadata": {},
   "source": [
    "In this project, I take data from NASA's Kepler Space Observatory (taken from https://exoplanetarchive.ipac.caltech.edu/cgi-bin/TblView/nph-tblView?app=ExoTbls&config=cumulative0) and see how well Logistic Regression and XGBoost perform in trying to classify exoplanets in the data."
   ]
  },
  {
   "cell_type": "markdown",
   "id": "5debec2c",
   "metadata": {},
   "source": [
    "## Logistic Regression"
   ]
  },
  {
   "cell_type": "markdown",
   "id": "768006ea",
   "metadata": {},
   "source": [
    "First we try logistic regression!"
   ]
  },
  {
   "cell_type": "code",
   "execution_count": 21,
   "id": "6b428957",
   "metadata": {},
   "outputs": [
    {
     "name": "stdout",
     "output_type": "stream",
     "text": [
      "(9564, 141)\n"
     ]
    },
    {
     "data": {
      "text/html": [
       "<div>\n",
       "<style scoped>\n",
       "    .dataframe tbody tr th:only-of-type {\n",
       "        vertical-align: middle;\n",
       "    }\n",
       "\n",
       "    .dataframe tbody tr th {\n",
       "        vertical-align: top;\n",
       "    }\n",
       "\n",
       "    .dataframe thead th {\n",
       "        text-align: right;\n",
       "    }\n",
       "</style>\n",
       "<table border=\"1\" class=\"dataframe\">\n",
       "  <thead>\n",
       "    <tr style=\"text-align: right;\">\n",
       "      <th></th>\n",
       "      <th>rowid</th>\n",
       "      <th>kepid</th>\n",
       "      <th>kepoi_name</th>\n",
       "      <th>kepler_name</th>\n",
       "      <th>koi_disposition</th>\n",
       "      <th>koi_vet_stat</th>\n",
       "      <th>koi_vet_date</th>\n",
       "      <th>koi_pdisposition</th>\n",
       "      <th>koi_score</th>\n",
       "      <th>koi_fpflag_nt</th>\n",
       "      <th>...</th>\n",
       "      <th>koi_dicco_mdec</th>\n",
       "      <th>koi_dicco_mdec_err</th>\n",
       "      <th>koi_dicco_msky</th>\n",
       "      <th>koi_dicco_msky_err</th>\n",
       "      <th>koi_dikco_mra</th>\n",
       "      <th>koi_dikco_mra_err</th>\n",
       "      <th>koi_dikco_mdec</th>\n",
       "      <th>koi_dikco_mdec_err</th>\n",
       "      <th>koi_dikco_msky</th>\n",
       "      <th>koi_dikco_msky_err</th>\n",
       "    </tr>\n",
       "  </thead>\n",
       "  <tbody>\n",
       "    <tr>\n",
       "      <th>0</th>\n",
       "      <td>1</td>\n",
       "      <td>10797460</td>\n",
       "      <td>K00752.01</td>\n",
       "      <td>Kepler-227 b</td>\n",
       "      <td>CONFIRMED</td>\n",
       "      <td>Done</td>\n",
       "      <td>2018-08-16</td>\n",
       "      <td>CANDIDATE</td>\n",
       "      <td>1.000</td>\n",
       "      <td>0</td>\n",
       "      <td>...</td>\n",
       "      <td>0.200</td>\n",
       "      <td>0.160</td>\n",
       "      <td>0.200</td>\n",
       "      <td>0.170</td>\n",
       "      <td>0.080</td>\n",
       "      <td>0.130</td>\n",
       "      <td>0.310</td>\n",
       "      <td>0.170</td>\n",
       "      <td>0.320</td>\n",
       "      <td>0.160</td>\n",
       "    </tr>\n",
       "    <tr>\n",
       "      <th>1</th>\n",
       "      <td>2</td>\n",
       "      <td>10797460</td>\n",
       "      <td>K00752.02</td>\n",
       "      <td>Kepler-227 c</td>\n",
       "      <td>CONFIRMED</td>\n",
       "      <td>Done</td>\n",
       "      <td>2018-08-16</td>\n",
       "      <td>CANDIDATE</td>\n",
       "      <td>0.969</td>\n",
       "      <td>0</td>\n",
       "      <td>...</td>\n",
       "      <td>0.000</td>\n",
       "      <td>0.480</td>\n",
       "      <td>0.390</td>\n",
       "      <td>0.360</td>\n",
       "      <td>0.490</td>\n",
       "      <td>0.340</td>\n",
       "      <td>0.120</td>\n",
       "      <td>0.730</td>\n",
       "      <td>0.500</td>\n",
       "      <td>0.450</td>\n",
       "    </tr>\n",
       "    <tr>\n",
       "      <th>2</th>\n",
       "      <td>3</td>\n",
       "      <td>10811496</td>\n",
       "      <td>K00753.01</td>\n",
       "      <td>NaN</td>\n",
       "      <td>CANDIDATE</td>\n",
       "      <td>Done</td>\n",
       "      <td>2018-08-16</td>\n",
       "      <td>CANDIDATE</td>\n",
       "      <td>0.000</td>\n",
       "      <td>0</td>\n",
       "      <td>...</td>\n",
       "      <td>-0.034</td>\n",
       "      <td>0.070</td>\n",
       "      <td>0.042</td>\n",
       "      <td>0.072</td>\n",
       "      <td>0.002</td>\n",
       "      <td>0.071</td>\n",
       "      <td>-0.027</td>\n",
       "      <td>0.074</td>\n",
       "      <td>0.027</td>\n",
       "      <td>0.074</td>\n",
       "    </tr>\n",
       "    <tr>\n",
       "      <th>3</th>\n",
       "      <td>4</td>\n",
       "      <td>10848459</td>\n",
       "      <td>K00754.01</td>\n",
       "      <td>NaN</td>\n",
       "      <td>FALSE POSITIVE</td>\n",
       "      <td>Done</td>\n",
       "      <td>2018-08-16</td>\n",
       "      <td>FALSE POSITIVE</td>\n",
       "      <td>0.000</td>\n",
       "      <td>0</td>\n",
       "      <td>...</td>\n",
       "      <td>0.147</td>\n",
       "      <td>0.078</td>\n",
       "      <td>0.289</td>\n",
       "      <td>0.079</td>\n",
       "      <td>-0.257</td>\n",
       "      <td>0.072</td>\n",
       "      <td>0.099</td>\n",
       "      <td>0.077</td>\n",
       "      <td>0.276</td>\n",
       "      <td>0.076</td>\n",
       "    </tr>\n",
       "    <tr>\n",
       "      <th>4</th>\n",
       "      <td>5</td>\n",
       "      <td>10854555</td>\n",
       "      <td>K00755.01</td>\n",
       "      <td>Kepler-664 b</td>\n",
       "      <td>CONFIRMED</td>\n",
       "      <td>Done</td>\n",
       "      <td>2018-08-16</td>\n",
       "      <td>CANDIDATE</td>\n",
       "      <td>1.000</td>\n",
       "      <td>0</td>\n",
       "      <td>...</td>\n",
       "      <td>-0.090</td>\n",
       "      <td>0.180</td>\n",
       "      <td>0.100</td>\n",
       "      <td>0.140</td>\n",
       "      <td>0.070</td>\n",
       "      <td>0.180</td>\n",
       "      <td>0.020</td>\n",
       "      <td>0.160</td>\n",
       "      <td>0.070</td>\n",
       "      <td>0.200</td>\n",
       "    </tr>\n",
       "  </tbody>\n",
       "</table>\n",
       "<p>5 rows × 141 columns</p>\n",
       "</div>"
      ],
      "text/plain": [
       "   rowid     kepid kepoi_name   kepler_name koi_disposition koi_vet_stat  \\\n",
       "0      1  10797460  K00752.01  Kepler-227 b       CONFIRMED         Done   \n",
       "1      2  10797460  K00752.02  Kepler-227 c       CONFIRMED         Done   \n",
       "2      3  10811496  K00753.01           NaN       CANDIDATE         Done   \n",
       "3      4  10848459  K00754.01           NaN  FALSE POSITIVE         Done   \n",
       "4      5  10854555  K00755.01  Kepler-664 b       CONFIRMED         Done   \n",
       "\n",
       "  koi_vet_date koi_pdisposition  koi_score  koi_fpflag_nt  ...  \\\n",
       "0   2018-08-16        CANDIDATE      1.000              0  ...   \n",
       "1   2018-08-16        CANDIDATE      0.969              0  ...   \n",
       "2   2018-08-16        CANDIDATE      0.000              0  ...   \n",
       "3   2018-08-16   FALSE POSITIVE      0.000              0  ...   \n",
       "4   2018-08-16        CANDIDATE      1.000              0  ...   \n",
       "\n",
       "   koi_dicco_mdec  koi_dicco_mdec_err  koi_dicco_msky koi_dicco_msky_err  \\\n",
       "0           0.200               0.160           0.200              0.170   \n",
       "1           0.000               0.480           0.390              0.360   \n",
       "2          -0.034               0.070           0.042              0.072   \n",
       "3           0.147               0.078           0.289              0.079   \n",
       "4          -0.090               0.180           0.100              0.140   \n",
       "\n",
       "  koi_dikco_mra  koi_dikco_mra_err  koi_dikco_mdec  koi_dikco_mdec_err  \\\n",
       "0         0.080              0.130           0.310               0.170   \n",
       "1         0.490              0.340           0.120               0.730   \n",
       "2         0.002              0.071          -0.027               0.074   \n",
       "3        -0.257              0.072           0.099               0.077   \n",
       "4         0.070              0.180           0.020               0.160   \n",
       "\n",
       "   koi_dikco_msky  koi_dikco_msky_err  \n",
       "0           0.320               0.160  \n",
       "1           0.500               0.450  \n",
       "2           0.027               0.074  \n",
       "3           0.276               0.076  \n",
       "4           0.070               0.200  \n",
       "\n",
       "[5 rows x 141 columns]"
      ]
     },
     "execution_count": 21,
     "metadata": {},
     "output_type": "execute_result"
    }
   ],
   "source": [
    "#Get Data from csv\n",
    "import pandas as pd\n",
    "\n",
    "df = pd.read_csv(\"cumulative_2025.05.15_00.08.33.csv\", comment='#')  # some files have metadata comments\n",
    "print(df.shape)\n",
    "df.head()"
   ]
  },
  {
   "cell_type": "code",
   "execution_count": 22,
   "id": "c4789f80",
   "metadata": {},
   "outputs": [],
   "source": [
    "#Remove candidate planets\n",
    "df = df[df['koi_disposition'].isin(['CONFIRMED', 'FALSE POSITIVE'])]"
   ]
  },
  {
   "cell_type": "code",
   "execution_count": 23,
   "id": "14c72462",
   "metadata": {},
   "outputs": [
    {
     "data": {
      "text/html": [
       "<div>\n",
       "<style scoped>\n",
       "    .dataframe tbody tr th:only-of-type {\n",
       "        vertical-align: middle;\n",
       "    }\n",
       "\n",
       "    .dataframe tbody tr th {\n",
       "        vertical-align: top;\n",
       "    }\n",
       "\n",
       "    .dataframe thead th {\n",
       "        text-align: right;\n",
       "    }\n",
       "</style>\n",
       "<table border=\"1\" class=\"dataframe\">\n",
       "  <thead>\n",
       "    <tr style=\"text-align: right;\">\n",
       "      <th></th>\n",
       "      <th>rowid</th>\n",
       "      <th>kepid</th>\n",
       "      <th>kepoi_name</th>\n",
       "      <th>kepler_name</th>\n",
       "      <th>koi_disposition</th>\n",
       "      <th>koi_vet_stat</th>\n",
       "      <th>koi_vet_date</th>\n",
       "      <th>koi_pdisposition</th>\n",
       "      <th>koi_score</th>\n",
       "      <th>koi_fpflag_nt</th>\n",
       "      <th>...</th>\n",
       "      <th>koi_dicco_mdec</th>\n",
       "      <th>koi_dicco_mdec_err</th>\n",
       "      <th>koi_dicco_msky</th>\n",
       "      <th>koi_dicco_msky_err</th>\n",
       "      <th>koi_dikco_mra</th>\n",
       "      <th>koi_dikco_mra_err</th>\n",
       "      <th>koi_dikco_mdec</th>\n",
       "      <th>koi_dikco_mdec_err</th>\n",
       "      <th>koi_dikco_msky</th>\n",
       "      <th>koi_dikco_msky_err</th>\n",
       "    </tr>\n",
       "  </thead>\n",
       "  <tbody>\n",
       "    <tr>\n",
       "      <th>0</th>\n",
       "      <td>1</td>\n",
       "      <td>10797460</td>\n",
       "      <td>K00752.01</td>\n",
       "      <td>Kepler-227 b</td>\n",
       "      <td>CONFIRMED</td>\n",
       "      <td>Done</td>\n",
       "      <td>2018-08-16</td>\n",
       "      <td>CANDIDATE</td>\n",
       "      <td>1.000</td>\n",
       "      <td>0</td>\n",
       "      <td>...</td>\n",
       "      <td>0.200</td>\n",
       "      <td>0.160</td>\n",
       "      <td>0.200</td>\n",
       "      <td>0.170</td>\n",
       "      <td>0.080</td>\n",
       "      <td>0.130</td>\n",
       "      <td>0.310</td>\n",
       "      <td>0.170</td>\n",
       "      <td>0.320</td>\n",
       "      <td>0.160</td>\n",
       "    </tr>\n",
       "    <tr>\n",
       "      <th>1</th>\n",
       "      <td>2</td>\n",
       "      <td>10797460</td>\n",
       "      <td>K00752.02</td>\n",
       "      <td>Kepler-227 c</td>\n",
       "      <td>CONFIRMED</td>\n",
       "      <td>Done</td>\n",
       "      <td>2018-08-16</td>\n",
       "      <td>CANDIDATE</td>\n",
       "      <td>0.969</td>\n",
       "      <td>0</td>\n",
       "      <td>...</td>\n",
       "      <td>0.000</td>\n",
       "      <td>0.480</td>\n",
       "      <td>0.390</td>\n",
       "      <td>0.360</td>\n",
       "      <td>0.490</td>\n",
       "      <td>0.340</td>\n",
       "      <td>0.120</td>\n",
       "      <td>0.730</td>\n",
       "      <td>0.500</td>\n",
       "      <td>0.450</td>\n",
       "    </tr>\n",
       "    <tr>\n",
       "      <th>3</th>\n",
       "      <td>4</td>\n",
       "      <td>10848459</td>\n",
       "      <td>K00754.01</td>\n",
       "      <td>NaN</td>\n",
       "      <td>FALSE POSITIVE</td>\n",
       "      <td>Done</td>\n",
       "      <td>2018-08-16</td>\n",
       "      <td>FALSE POSITIVE</td>\n",
       "      <td>0.000</td>\n",
       "      <td>0</td>\n",
       "      <td>...</td>\n",
       "      <td>0.147</td>\n",
       "      <td>0.078</td>\n",
       "      <td>0.289</td>\n",
       "      <td>0.079</td>\n",
       "      <td>-0.257</td>\n",
       "      <td>0.072</td>\n",
       "      <td>0.099</td>\n",
       "      <td>0.077</td>\n",
       "      <td>0.276</td>\n",
       "      <td>0.076</td>\n",
       "    </tr>\n",
       "    <tr>\n",
       "      <th>4</th>\n",
       "      <td>5</td>\n",
       "      <td>10854555</td>\n",
       "      <td>K00755.01</td>\n",
       "      <td>Kepler-664 b</td>\n",
       "      <td>CONFIRMED</td>\n",
       "      <td>Done</td>\n",
       "      <td>2018-08-16</td>\n",
       "      <td>CANDIDATE</td>\n",
       "      <td>1.000</td>\n",
       "      <td>0</td>\n",
       "      <td>...</td>\n",
       "      <td>-0.090</td>\n",
       "      <td>0.180</td>\n",
       "      <td>0.100</td>\n",
       "      <td>0.140</td>\n",
       "      <td>0.070</td>\n",
       "      <td>0.180</td>\n",
       "      <td>0.020</td>\n",
       "      <td>0.160</td>\n",
       "      <td>0.070</td>\n",
       "      <td>0.200</td>\n",
       "    </tr>\n",
       "    <tr>\n",
       "      <th>5</th>\n",
       "      <td>6</td>\n",
       "      <td>10872983</td>\n",
       "      <td>K00756.01</td>\n",
       "      <td>Kepler-228 d</td>\n",
       "      <td>CONFIRMED</td>\n",
       "      <td>Done</td>\n",
       "      <td>2018-08-16</td>\n",
       "      <td>CANDIDATE</td>\n",
       "      <td>1.000</td>\n",
       "      <td>0</td>\n",
       "      <td>...</td>\n",
       "      <td>-0.070</td>\n",
       "      <td>0.110</td>\n",
       "      <td>0.080</td>\n",
       "      <td>0.130</td>\n",
       "      <td>-0.020</td>\n",
       "      <td>0.130</td>\n",
       "      <td>-0.080</td>\n",
       "      <td>0.100</td>\n",
       "      <td>0.080</td>\n",
       "      <td>0.100</td>\n",
       "    </tr>\n",
       "  </tbody>\n",
       "</table>\n",
       "<p>5 rows × 141 columns</p>\n",
       "</div>"
      ],
      "text/plain": [
       "   rowid     kepid kepoi_name   kepler_name koi_disposition koi_vet_stat  \\\n",
       "0      1  10797460  K00752.01  Kepler-227 b       CONFIRMED         Done   \n",
       "1      2  10797460  K00752.02  Kepler-227 c       CONFIRMED         Done   \n",
       "3      4  10848459  K00754.01           NaN  FALSE POSITIVE         Done   \n",
       "4      5  10854555  K00755.01  Kepler-664 b       CONFIRMED         Done   \n",
       "5      6  10872983  K00756.01  Kepler-228 d       CONFIRMED         Done   \n",
       "\n",
       "  koi_vet_date koi_pdisposition  koi_score  koi_fpflag_nt  ...  \\\n",
       "0   2018-08-16        CANDIDATE      1.000              0  ...   \n",
       "1   2018-08-16        CANDIDATE      0.969              0  ...   \n",
       "3   2018-08-16   FALSE POSITIVE      0.000              0  ...   \n",
       "4   2018-08-16        CANDIDATE      1.000              0  ...   \n",
       "5   2018-08-16        CANDIDATE      1.000              0  ...   \n",
       "\n",
       "   koi_dicco_mdec  koi_dicco_mdec_err  koi_dicco_msky koi_dicco_msky_err  \\\n",
       "0           0.200               0.160           0.200              0.170   \n",
       "1           0.000               0.480           0.390              0.360   \n",
       "3           0.147               0.078           0.289              0.079   \n",
       "4          -0.090               0.180           0.100              0.140   \n",
       "5          -0.070               0.110           0.080              0.130   \n",
       "\n",
       "  koi_dikco_mra  koi_dikco_mra_err  koi_dikco_mdec  koi_dikco_mdec_err  \\\n",
       "0         0.080              0.130           0.310               0.170   \n",
       "1         0.490              0.340           0.120               0.730   \n",
       "3        -0.257              0.072           0.099               0.077   \n",
       "4         0.070              0.180           0.020               0.160   \n",
       "5        -0.020              0.130          -0.080               0.100   \n",
       "\n",
       "   koi_dikco_msky  koi_dikco_msky_err  \n",
       "0           0.320               0.160  \n",
       "1           0.500               0.450  \n",
       "3           0.276               0.076  \n",
       "4           0.070               0.200  \n",
       "5           0.080               0.100  \n",
       "\n",
       "[5 rows x 141 columns]"
      ]
     },
     "execution_count": 23,
     "metadata": {},
     "output_type": "execute_result"
    }
   ],
   "source": [
    "df.head()"
   ]
  },
  {
   "cell_type": "code",
   "execution_count": 24,
   "id": "01588cf8",
   "metadata": {},
   "outputs": [],
   "source": [
    "#Create a binary is_candidate entry to classify against\n",
    "df['is_candidate'] = df['koi_disposition'].map({'CONFIRMED': 1, 'FALSE POSITIVE': 0})"
   ]
  },
  {
   "cell_type": "code",
   "execution_count": 25,
   "id": "ea5fa174",
   "metadata": {},
   "outputs": [
    {
     "data": {
      "text/html": [
       "<div>\n",
       "<style scoped>\n",
       "    .dataframe tbody tr th:only-of-type {\n",
       "        vertical-align: middle;\n",
       "    }\n",
       "\n",
       "    .dataframe tbody tr th {\n",
       "        vertical-align: top;\n",
       "    }\n",
       "\n",
       "    .dataframe thead th {\n",
       "        text-align: right;\n",
       "    }\n",
       "</style>\n",
       "<table border=\"1\" class=\"dataframe\">\n",
       "  <thead>\n",
       "    <tr style=\"text-align: right;\">\n",
       "      <th></th>\n",
       "      <th>rowid</th>\n",
       "      <th>kepid</th>\n",
       "      <th>kepoi_name</th>\n",
       "      <th>kepler_name</th>\n",
       "      <th>koi_disposition</th>\n",
       "      <th>koi_vet_stat</th>\n",
       "      <th>koi_vet_date</th>\n",
       "      <th>koi_pdisposition</th>\n",
       "      <th>koi_score</th>\n",
       "      <th>koi_fpflag_nt</th>\n",
       "      <th>...</th>\n",
       "      <th>koi_dicco_mdec_err</th>\n",
       "      <th>koi_dicco_msky</th>\n",
       "      <th>koi_dicco_msky_err</th>\n",
       "      <th>koi_dikco_mra</th>\n",
       "      <th>koi_dikco_mra_err</th>\n",
       "      <th>koi_dikco_mdec</th>\n",
       "      <th>koi_dikco_mdec_err</th>\n",
       "      <th>koi_dikco_msky</th>\n",
       "      <th>koi_dikco_msky_err</th>\n",
       "      <th>is_candidate</th>\n",
       "    </tr>\n",
       "  </thead>\n",
       "  <tbody>\n",
       "    <tr>\n",
       "      <th>0</th>\n",
       "      <td>1</td>\n",
       "      <td>10797460</td>\n",
       "      <td>K00752.01</td>\n",
       "      <td>Kepler-227 b</td>\n",
       "      <td>CONFIRMED</td>\n",
       "      <td>Done</td>\n",
       "      <td>2018-08-16</td>\n",
       "      <td>CANDIDATE</td>\n",
       "      <td>1.000</td>\n",
       "      <td>0</td>\n",
       "      <td>...</td>\n",
       "      <td>0.160</td>\n",
       "      <td>0.200</td>\n",
       "      <td>0.170</td>\n",
       "      <td>0.080</td>\n",
       "      <td>0.130</td>\n",
       "      <td>0.310</td>\n",
       "      <td>0.170</td>\n",
       "      <td>0.320</td>\n",
       "      <td>0.160</td>\n",
       "      <td>1</td>\n",
       "    </tr>\n",
       "    <tr>\n",
       "      <th>1</th>\n",
       "      <td>2</td>\n",
       "      <td>10797460</td>\n",
       "      <td>K00752.02</td>\n",
       "      <td>Kepler-227 c</td>\n",
       "      <td>CONFIRMED</td>\n",
       "      <td>Done</td>\n",
       "      <td>2018-08-16</td>\n",
       "      <td>CANDIDATE</td>\n",
       "      <td>0.969</td>\n",
       "      <td>0</td>\n",
       "      <td>...</td>\n",
       "      <td>0.480</td>\n",
       "      <td>0.390</td>\n",
       "      <td>0.360</td>\n",
       "      <td>0.490</td>\n",
       "      <td>0.340</td>\n",
       "      <td>0.120</td>\n",
       "      <td>0.730</td>\n",
       "      <td>0.500</td>\n",
       "      <td>0.450</td>\n",
       "      <td>1</td>\n",
       "    </tr>\n",
       "    <tr>\n",
       "      <th>3</th>\n",
       "      <td>4</td>\n",
       "      <td>10848459</td>\n",
       "      <td>K00754.01</td>\n",
       "      <td>NaN</td>\n",
       "      <td>FALSE POSITIVE</td>\n",
       "      <td>Done</td>\n",
       "      <td>2018-08-16</td>\n",
       "      <td>FALSE POSITIVE</td>\n",
       "      <td>0.000</td>\n",
       "      <td>0</td>\n",
       "      <td>...</td>\n",
       "      <td>0.078</td>\n",
       "      <td>0.289</td>\n",
       "      <td>0.079</td>\n",
       "      <td>-0.257</td>\n",
       "      <td>0.072</td>\n",
       "      <td>0.099</td>\n",
       "      <td>0.077</td>\n",
       "      <td>0.276</td>\n",
       "      <td>0.076</td>\n",
       "      <td>0</td>\n",
       "    </tr>\n",
       "    <tr>\n",
       "      <th>4</th>\n",
       "      <td>5</td>\n",
       "      <td>10854555</td>\n",
       "      <td>K00755.01</td>\n",
       "      <td>Kepler-664 b</td>\n",
       "      <td>CONFIRMED</td>\n",
       "      <td>Done</td>\n",
       "      <td>2018-08-16</td>\n",
       "      <td>CANDIDATE</td>\n",
       "      <td>1.000</td>\n",
       "      <td>0</td>\n",
       "      <td>...</td>\n",
       "      <td>0.180</td>\n",
       "      <td>0.100</td>\n",
       "      <td>0.140</td>\n",
       "      <td>0.070</td>\n",
       "      <td>0.180</td>\n",
       "      <td>0.020</td>\n",
       "      <td>0.160</td>\n",
       "      <td>0.070</td>\n",
       "      <td>0.200</td>\n",
       "      <td>1</td>\n",
       "    </tr>\n",
       "    <tr>\n",
       "      <th>5</th>\n",
       "      <td>6</td>\n",
       "      <td>10872983</td>\n",
       "      <td>K00756.01</td>\n",
       "      <td>Kepler-228 d</td>\n",
       "      <td>CONFIRMED</td>\n",
       "      <td>Done</td>\n",
       "      <td>2018-08-16</td>\n",
       "      <td>CANDIDATE</td>\n",
       "      <td>1.000</td>\n",
       "      <td>0</td>\n",
       "      <td>...</td>\n",
       "      <td>0.110</td>\n",
       "      <td>0.080</td>\n",
       "      <td>0.130</td>\n",
       "      <td>-0.020</td>\n",
       "      <td>0.130</td>\n",
       "      <td>-0.080</td>\n",
       "      <td>0.100</td>\n",
       "      <td>0.080</td>\n",
       "      <td>0.100</td>\n",
       "      <td>1</td>\n",
       "    </tr>\n",
       "  </tbody>\n",
       "</table>\n",
       "<p>5 rows × 142 columns</p>\n",
       "</div>"
      ],
      "text/plain": [
       "   rowid     kepid kepoi_name   kepler_name koi_disposition koi_vet_stat  \\\n",
       "0      1  10797460  K00752.01  Kepler-227 b       CONFIRMED         Done   \n",
       "1      2  10797460  K00752.02  Kepler-227 c       CONFIRMED         Done   \n",
       "3      4  10848459  K00754.01           NaN  FALSE POSITIVE         Done   \n",
       "4      5  10854555  K00755.01  Kepler-664 b       CONFIRMED         Done   \n",
       "5      6  10872983  K00756.01  Kepler-228 d       CONFIRMED         Done   \n",
       "\n",
       "  koi_vet_date koi_pdisposition  koi_score  koi_fpflag_nt  ...  \\\n",
       "0   2018-08-16        CANDIDATE      1.000              0  ...   \n",
       "1   2018-08-16        CANDIDATE      0.969              0  ...   \n",
       "3   2018-08-16   FALSE POSITIVE      0.000              0  ...   \n",
       "4   2018-08-16        CANDIDATE      1.000              0  ...   \n",
       "5   2018-08-16        CANDIDATE      1.000              0  ...   \n",
       "\n",
       "   koi_dicco_mdec_err  koi_dicco_msky  koi_dicco_msky_err koi_dikco_mra  \\\n",
       "0               0.160           0.200               0.170         0.080   \n",
       "1               0.480           0.390               0.360         0.490   \n",
       "3               0.078           0.289               0.079        -0.257   \n",
       "4               0.180           0.100               0.140         0.070   \n",
       "5               0.110           0.080               0.130        -0.020   \n",
       "\n",
       "  koi_dikco_mra_err  koi_dikco_mdec  koi_dikco_mdec_err  koi_dikco_msky  \\\n",
       "0             0.130           0.310               0.170           0.320   \n",
       "1             0.340           0.120               0.730           0.500   \n",
       "3             0.072           0.099               0.077           0.276   \n",
       "4             0.180           0.020               0.160           0.070   \n",
       "5             0.130          -0.080               0.100           0.080   \n",
       "\n",
       "   koi_dikco_msky_err  is_candidate  \n",
       "0               0.160             1  \n",
       "1               0.450             1  \n",
       "3               0.076             0  \n",
       "4               0.200             1  \n",
       "5               0.100             1  \n",
       "\n",
       "[5 rows x 142 columns]"
      ]
     },
     "execution_count": 25,
     "metadata": {},
     "output_type": "execute_result"
    }
   ],
   "source": [
    "df.head()"
   ]
  },
  {
   "cell_type": "code",
   "execution_count": 26,
   "id": "9bbea178",
   "metadata": {},
   "outputs": [],
   "source": [
    "#Select features that look like they matter!\n",
    "#In particular, we obviously ignore things like names and IDs\n",
    "#Things like RA and Dec don't have an obvious connection\n",
    "#to whether we expect the planet to being an exoplanet\n",
    "#But with more time it may be worth seeing how the model behaves with them anyway.\n",
    "\n",
    "features = [\n",
    "    'koi_period',      # orbital period\n",
    "    'koi_duration',    # transit duration\n",
    "    'koi_depth',       # transit depth\n",
    "    'koi_prad',        # planet radius\n",
    "    'koi_steff',       # stellar temperature\n",
    "    'koi_slogg',       # log surface gravity\n",
    "    'koi_srad'         # stellar radius\n",
    "]\n",
    "\n",
    "#Capital X and Y\n",
    "X = df[features]\n",
    "Y = df['is_candidate']"
   ]
  },
  {
   "cell_type": "code",
   "execution_count": 27,
   "id": "3d19c242",
   "metadata": {},
   "outputs": [
    {
     "data": {
      "text/html": [
       "<div>\n",
       "<style scoped>\n",
       "    .dataframe tbody tr th:only-of-type {\n",
       "        vertical-align: middle;\n",
       "    }\n",
       "\n",
       "    .dataframe tbody tr th {\n",
       "        vertical-align: top;\n",
       "    }\n",
       "\n",
       "    .dataframe thead th {\n",
       "        text-align: right;\n",
       "    }\n",
       "</style>\n",
       "<table border=\"1\" class=\"dataframe\">\n",
       "  <thead>\n",
       "    <tr style=\"text-align: right;\">\n",
       "      <th></th>\n",
       "      <th>koi_period</th>\n",
       "      <th>koi_duration</th>\n",
       "      <th>koi_depth</th>\n",
       "      <th>koi_prad</th>\n",
       "      <th>koi_steff</th>\n",
       "      <th>koi_slogg</th>\n",
       "      <th>koi_srad</th>\n",
       "    </tr>\n",
       "  </thead>\n",
       "  <tbody>\n",
       "    <tr>\n",
       "      <th>0</th>\n",
       "      <td>9.488036</td>\n",
       "      <td>2.95750</td>\n",
       "      <td>615.8</td>\n",
       "      <td>2.26</td>\n",
       "      <td>5455.0</td>\n",
       "      <td>4.467</td>\n",
       "      <td>0.927</td>\n",
       "    </tr>\n",
       "    <tr>\n",
       "      <th>1</th>\n",
       "      <td>54.418383</td>\n",
       "      <td>4.50700</td>\n",
       "      <td>874.8</td>\n",
       "      <td>2.83</td>\n",
       "      <td>5455.0</td>\n",
       "      <td>4.467</td>\n",
       "      <td>0.927</td>\n",
       "    </tr>\n",
       "    <tr>\n",
       "      <th>3</th>\n",
       "      <td>1.736952</td>\n",
       "      <td>2.40641</td>\n",
       "      <td>8079.2</td>\n",
       "      <td>33.46</td>\n",
       "      <td>5805.0</td>\n",
       "      <td>4.564</td>\n",
       "      <td>0.791</td>\n",
       "    </tr>\n",
       "    <tr>\n",
       "      <th>4</th>\n",
       "      <td>2.525592</td>\n",
       "      <td>1.65450</td>\n",
       "      <td>603.3</td>\n",
       "      <td>2.75</td>\n",
       "      <td>6031.0</td>\n",
       "      <td>4.438</td>\n",
       "      <td>1.046</td>\n",
       "    </tr>\n",
       "    <tr>\n",
       "      <th>5</th>\n",
       "      <td>11.094321</td>\n",
       "      <td>4.59450</td>\n",
       "      <td>1517.5</td>\n",
       "      <td>3.90</td>\n",
       "      <td>6046.0</td>\n",
       "      <td>4.486</td>\n",
       "      <td>0.972</td>\n",
       "    </tr>\n",
       "  </tbody>\n",
       "</table>\n",
       "</div>"
      ],
      "text/plain": [
       "   koi_period  koi_duration  koi_depth  koi_prad  koi_steff  koi_slogg  \\\n",
       "0    9.488036       2.95750      615.8      2.26     5455.0      4.467   \n",
       "1   54.418383       4.50700      874.8      2.83     5455.0      4.467   \n",
       "3    1.736952       2.40641     8079.2     33.46     5805.0      4.564   \n",
       "4    2.525592       1.65450      603.3      2.75     6031.0      4.438   \n",
       "5   11.094321       4.59450     1517.5      3.90     6046.0      4.486   \n",
       "\n",
       "   koi_srad  \n",
       "0     0.927  \n",
       "1     0.927  \n",
       "3     0.791  \n",
       "4     1.046  \n",
       "5     0.972  "
      ]
     },
     "execution_count": 27,
     "metadata": {},
     "output_type": "execute_result"
    }
   ],
   "source": [
    "X.head()"
   ]
  },
  {
   "cell_type": "code",
   "execution_count": 28,
   "id": "23634cf3",
   "metadata": {},
   "outputs": [],
   "source": [
    "#No missing values please!\n",
    "X = X.dropna()\n",
    "Y = Y.loc[X.index]"
   ]
  },
  {
   "cell_type": "code",
   "execution_count": 30,
   "id": "9d354fc8",
   "metadata": {},
   "outputs": [],
   "source": [
    "#Split of 20% for testing\n",
    "#Random seed given by RNG\n",
    "from sklearn.model_selection import train_test_split\n",
    "X_train, X_test, Y_train, Y_test = train_test_split(X, Y, test_size=0.2, random_state=45)"
   ]
  },
  {
   "cell_type": "code",
   "execution_count": 31,
   "id": "d10694b2",
   "metadata": {},
   "outputs": [
    {
     "data": {
      "text/html": [
       "<div>\n",
       "<style scoped>\n",
       "    .dataframe tbody tr th:only-of-type {\n",
       "        vertical-align: middle;\n",
       "    }\n",
       "\n",
       "    .dataframe tbody tr th {\n",
       "        vertical-align: top;\n",
       "    }\n",
       "\n",
       "    .dataframe thead th {\n",
       "        text-align: right;\n",
       "    }\n",
       "</style>\n",
       "<table border=\"1\" class=\"dataframe\">\n",
       "  <thead>\n",
       "    <tr style=\"text-align: right;\">\n",
       "      <th></th>\n",
       "      <th>koi_period</th>\n",
       "      <th>koi_duration</th>\n",
       "      <th>koi_depth</th>\n",
       "      <th>koi_prad</th>\n",
       "      <th>koi_steff</th>\n",
       "      <th>koi_slogg</th>\n",
       "      <th>koi_srad</th>\n",
       "    </tr>\n",
       "  </thead>\n",
       "  <tbody>\n",
       "    <tr>\n",
       "      <th>4980</th>\n",
       "      <td>54.061328</td>\n",
       "      <td>4.48223</td>\n",
       "      <td>79684.0</td>\n",
       "      <td>88.28</td>\n",
       "      <td>5786.0</td>\n",
       "      <td>4.318</td>\n",
       "      <td>1.112</td>\n",
       "    </tr>\n",
       "    <tr>\n",
       "      <th>5661</th>\n",
       "      <td>0.736194</td>\n",
       "      <td>1.11480</td>\n",
       "      <td>247.3</td>\n",
       "      <td>1.84</td>\n",
       "      <td>6355.0</td>\n",
       "      <td>4.418</td>\n",
       "      <td>1.090</td>\n",
       "    </tr>\n",
       "    <tr>\n",
       "      <th>7422</th>\n",
       "      <td>1.927178</td>\n",
       "      <td>2.77420</td>\n",
       "      <td>136140.0</td>\n",
       "      <td>28.94</td>\n",
       "      <td>5193.0</td>\n",
       "      <td>4.525</td>\n",
       "      <td>0.774</td>\n",
       "    </tr>\n",
       "    <tr>\n",
       "      <th>4663</th>\n",
       "      <td>412.041857</td>\n",
       "      <td>5.57200</td>\n",
       "      <td>1959.0</td>\n",
       "      <td>3.77</td>\n",
       "      <td>5485.0</td>\n",
       "      <td>4.556</td>\n",
       "      <td>0.867</td>\n",
       "    </tr>\n",
       "    <tr>\n",
       "      <th>6905</th>\n",
       "      <td>116.301793</td>\n",
       "      <td>2.25300</td>\n",
       "      <td>649.0</td>\n",
       "      <td>2.18</td>\n",
       "      <td>5593.0</td>\n",
       "      <td>4.552</td>\n",
       "      <td>0.842</td>\n",
       "    </tr>\n",
       "    <tr>\n",
       "      <th>...</th>\n",
       "      <td>...</td>\n",
       "      <td>...</td>\n",
       "      <td>...</td>\n",
       "      <td>...</td>\n",
       "      <td>...</td>\n",
       "      <td>...</td>\n",
       "      <td>...</td>\n",
       "    </tr>\n",
       "    <tr>\n",
       "      <th>4200</th>\n",
       "      <td>0.909315</td>\n",
       "      <td>2.20530</td>\n",
       "      <td>40.5</td>\n",
       "      <td>0.99</td>\n",
       "      <td>6508.0</td>\n",
       "      <td>4.163</td>\n",
       "      <td>1.447</td>\n",
       "    </tr>\n",
       "    <tr>\n",
       "      <th>7805</th>\n",
       "      <td>659.290700</td>\n",
       "      <td>22.10600</td>\n",
       "      <td>338.1</td>\n",
       "      <td>4.66</td>\n",
       "      <td>6917.0</td>\n",
       "      <td>4.050</td>\n",
       "      <td>1.837</td>\n",
       "    </tr>\n",
       "    <tr>\n",
       "      <th>7453</th>\n",
       "      <td>94.219289</td>\n",
       "      <td>24.31200</td>\n",
       "      <td>1025.9</td>\n",
       "      <td>2.15</td>\n",
       "      <td>4641.0</td>\n",
       "      <td>4.589</td>\n",
       "      <td>0.694</td>\n",
       "    </tr>\n",
       "    <tr>\n",
       "      <th>8519</th>\n",
       "      <td>501.907030</td>\n",
       "      <td>12.43000</td>\n",
       "      <td>306.9</td>\n",
       "      <td>1.83</td>\n",
       "      <td>6316.0</td>\n",
       "      <td>4.413</td>\n",
       "      <td>1.036</td>\n",
       "    </tr>\n",
       "    <tr>\n",
       "      <th>9282</th>\n",
       "      <td>0.933760</td>\n",
       "      <td>3.18200</td>\n",
       "      <td>56.5</td>\n",
       "      <td>0.40</td>\n",
       "      <td>3885.0</td>\n",
       "      <td>4.710</td>\n",
       "      <td>0.540</td>\n",
       "    </tr>\n",
       "  </tbody>\n",
       "</table>\n",
       "<p>5860 rows × 7 columns</p>\n",
       "</div>"
      ],
      "text/plain": [
       "      koi_period  koi_duration  koi_depth  koi_prad  koi_steff  koi_slogg  \\\n",
       "4980   54.061328       4.48223    79684.0     88.28     5786.0      4.318   \n",
       "5661    0.736194       1.11480      247.3      1.84     6355.0      4.418   \n",
       "7422    1.927178       2.77420   136140.0     28.94     5193.0      4.525   \n",
       "4663  412.041857       5.57200     1959.0      3.77     5485.0      4.556   \n",
       "6905  116.301793       2.25300      649.0      2.18     5593.0      4.552   \n",
       "...          ...           ...        ...       ...        ...        ...   \n",
       "4200    0.909315       2.20530       40.5      0.99     6508.0      4.163   \n",
       "7805  659.290700      22.10600      338.1      4.66     6917.0      4.050   \n",
       "7453   94.219289      24.31200     1025.9      2.15     4641.0      4.589   \n",
       "8519  501.907030      12.43000      306.9      1.83     6316.0      4.413   \n",
       "9282    0.933760       3.18200       56.5      0.40     3885.0      4.710   \n",
       "\n",
       "      koi_srad  \n",
       "4980     1.112  \n",
       "5661     1.090  \n",
       "7422     0.774  \n",
       "4663     0.867  \n",
       "6905     0.842  \n",
       "...        ...  \n",
       "4200     1.447  \n",
       "7805     1.837  \n",
       "7453     0.694  \n",
       "8519     1.036  \n",
       "9282     0.540  \n",
       "\n",
       "[5860 rows x 7 columns]"
      ]
     },
     "execution_count": 31,
     "metadata": {},
     "output_type": "execute_result"
    }
   ],
   "source": [
    "#Training Data\n",
    "X_train"
   ]
  },
  {
   "cell_type": "code",
   "execution_count": 32,
   "id": "1d2e0424",
   "metadata": {},
   "outputs": [
    {
     "data": {
      "text/html": [
       "<div>\n",
       "<style scoped>\n",
       "    .dataframe tbody tr th:only-of-type {\n",
       "        vertical-align: middle;\n",
       "    }\n",
       "\n",
       "    .dataframe tbody tr th {\n",
       "        vertical-align: top;\n",
       "    }\n",
       "\n",
       "    .dataframe thead th {\n",
       "        text-align: right;\n",
       "    }\n",
       "</style>\n",
       "<table border=\"1\" class=\"dataframe\">\n",
       "  <thead>\n",
       "    <tr style=\"text-align: right;\">\n",
       "      <th></th>\n",
       "      <th>koi_period</th>\n",
       "      <th>koi_duration</th>\n",
       "      <th>koi_depth</th>\n",
       "      <th>koi_prad</th>\n",
       "      <th>koi_steff</th>\n",
       "      <th>koi_slogg</th>\n",
       "      <th>koi_srad</th>\n",
       "    </tr>\n",
       "  </thead>\n",
       "  <tbody>\n",
       "    <tr>\n",
       "      <th>8900</th>\n",
       "      <td>2.680514</td>\n",
       "      <td>3.21178</td>\n",
       "      <td>195750.0</td>\n",
       "      <td>48.86</td>\n",
       "      <td>6038.0</td>\n",
       "      <td>4.356</td>\n",
       "      <td>1.076</td>\n",
       "    </tr>\n",
       "    <tr>\n",
       "      <th>5888</th>\n",
       "      <td>1.519529</td>\n",
       "      <td>5.16750</td>\n",
       "      <td>8372.5</td>\n",
       "      <td>11.12</td>\n",
       "      <td>6033.0</td>\n",
       "      <td>4.460</td>\n",
       "      <td>1.046</td>\n",
       "    </tr>\n",
       "    <tr>\n",
       "      <th>7386</th>\n",
       "      <td>12.425551</td>\n",
       "      <td>28.49200</td>\n",
       "      <td>409.0</td>\n",
       "      <td>3.79</td>\n",
       "      <td>6381.0</td>\n",
       "      <td>4.155</td>\n",
       "      <td>1.423</td>\n",
       "    </tr>\n",
       "    <tr>\n",
       "      <th>1439</th>\n",
       "      <td>3.003880</td>\n",
       "      <td>3.28480</td>\n",
       "      <td>8538.0</td>\n",
       "      <td>10.96</td>\n",
       "      <td>6311.0</td>\n",
       "      <td>4.398</td>\n",
       "      <td>1.172</td>\n",
       "    </tr>\n",
       "    <tr>\n",
       "      <th>6321</th>\n",
       "      <td>20.531171</td>\n",
       "      <td>5.67000</td>\n",
       "      <td>284.6</td>\n",
       "      <td>1.39</td>\n",
       "      <td>5398.0</td>\n",
       "      <td>4.580</td>\n",
       "      <td>0.805</td>\n",
       "    </tr>\n",
       "    <tr>\n",
       "      <th>...</th>\n",
       "      <td>...</td>\n",
       "      <td>...</td>\n",
       "      <td>...</td>\n",
       "      <td>...</td>\n",
       "      <td>...</td>\n",
       "      <td>...</td>\n",
       "      <td>...</td>\n",
       "    </tr>\n",
       "    <tr>\n",
       "      <th>6196</th>\n",
       "      <td>0.681138</td>\n",
       "      <td>2.72870</td>\n",
       "      <td>105190.0</td>\n",
       "      <td>45.75</td>\n",
       "      <td>5872.0</td>\n",
       "      <td>4.474</td>\n",
       "      <td>0.864</td>\n",
       "    </tr>\n",
       "    <tr>\n",
       "      <th>9011</th>\n",
       "      <td>2.214030</td>\n",
       "      <td>5.64264</td>\n",
       "      <td>349110.0</td>\n",
       "      <td>94.23</td>\n",
       "      <td>6604.0</td>\n",
       "      <td>4.178</td>\n",
       "      <td>1.526</td>\n",
       "    </tr>\n",
       "    <tr>\n",
       "      <th>1560</th>\n",
       "      <td>17.760765</td>\n",
       "      <td>1.66790</td>\n",
       "      <td>1287.2</td>\n",
       "      <td>1.93</td>\n",
       "      <td>3826.0</td>\n",
       "      <td>4.744</td>\n",
       "      <td>0.516</td>\n",
       "    </tr>\n",
       "    <tr>\n",
       "      <th>5774</th>\n",
       "      <td>6.905223</td>\n",
       "      <td>3.53300</td>\n",
       "      <td>420.3</td>\n",
       "      <td>4.54</td>\n",
       "      <td>6596.0</td>\n",
       "      <td>4.135</td>\n",
       "      <td>1.721</td>\n",
       "    </tr>\n",
       "    <tr>\n",
       "      <th>2800</th>\n",
       "      <td>3.254278</td>\n",
       "      <td>2.99030</td>\n",
       "      <td>159.9</td>\n",
       "      <td>1.38</td>\n",
       "      <td>5945.0</td>\n",
       "      <td>4.402</td>\n",
       "      <td>1.089</td>\n",
       "    </tr>\n",
       "  </tbody>\n",
       "</table>\n",
       "<p>1465 rows × 7 columns</p>\n",
       "</div>"
      ],
      "text/plain": [
       "      koi_period  koi_duration  koi_depth  koi_prad  koi_steff  koi_slogg  \\\n",
       "8900    2.680514       3.21178   195750.0     48.86     6038.0      4.356   \n",
       "5888    1.519529       5.16750     8372.5     11.12     6033.0      4.460   \n",
       "7386   12.425551      28.49200      409.0      3.79     6381.0      4.155   \n",
       "1439    3.003880       3.28480     8538.0     10.96     6311.0      4.398   \n",
       "6321   20.531171       5.67000      284.6      1.39     5398.0      4.580   \n",
       "...          ...           ...        ...       ...        ...        ...   \n",
       "6196    0.681138       2.72870   105190.0     45.75     5872.0      4.474   \n",
       "9011    2.214030       5.64264   349110.0     94.23     6604.0      4.178   \n",
       "1560   17.760765       1.66790     1287.2      1.93     3826.0      4.744   \n",
       "5774    6.905223       3.53300      420.3      4.54     6596.0      4.135   \n",
       "2800    3.254278       2.99030      159.9      1.38     5945.0      4.402   \n",
       "\n",
       "      koi_srad  \n",
       "8900     1.076  \n",
       "5888     1.046  \n",
       "7386     1.423  \n",
       "1439     1.172  \n",
       "6321     0.805  \n",
       "...        ...  \n",
       "6196     0.864  \n",
       "9011     1.526  \n",
       "1560     0.516  \n",
       "5774     1.721  \n",
       "2800     1.089  \n",
       "\n",
       "[1465 rows x 7 columns]"
      ]
     },
     "execution_count": 32,
     "metadata": {},
     "output_type": "execute_result"
    }
   ],
   "source": [
    "#Testing Data\n",
    "X_test"
   ]
  },
  {
   "cell_type": "code",
   "execution_count": 338,
   "id": "a1ff2ac2",
   "metadata": {},
   "outputs": [],
   "source": [
    "#We standardise the data. We just use standard scaling (substract mean, divide by sample variance) at first\n",
    "from sklearn.preprocessing import StandardScaler\n",
    "\n",
    "scaler = StandardScaler()\n",
    "X_train_scaled = scaler.fit_transform(X_train)\n",
    "X_test_scaled = scaler.transform(X_test)"
   ]
  },
  {
   "cell_type": "code",
   "execution_count": 36,
   "id": "184a2bef",
   "metadata": {},
   "outputs": [
    {
     "data": {
      "text/html": [
       "<style>#sk-container-id-1 {color: black;background-color: white;}#sk-container-id-1 pre{padding: 0;}#sk-container-id-1 div.sk-toggleable {background-color: white;}#sk-container-id-1 label.sk-toggleable__label {cursor: pointer;display: block;width: 100%;margin-bottom: 0;padding: 0.3em;box-sizing: border-box;text-align: center;}#sk-container-id-1 label.sk-toggleable__label-arrow:before {content: \"▸\";float: left;margin-right: 0.25em;color: #696969;}#sk-container-id-1 label.sk-toggleable__label-arrow:hover:before {color: black;}#sk-container-id-1 div.sk-estimator:hover label.sk-toggleable__label-arrow:before {color: black;}#sk-container-id-1 div.sk-toggleable__content {max-height: 0;max-width: 0;overflow: hidden;text-align: left;background-color: #f0f8ff;}#sk-container-id-1 div.sk-toggleable__content pre {margin: 0.2em;color: black;border-radius: 0.25em;background-color: #f0f8ff;}#sk-container-id-1 input.sk-toggleable__control:checked~div.sk-toggleable__content {max-height: 200px;max-width: 100%;overflow: auto;}#sk-container-id-1 input.sk-toggleable__control:checked~label.sk-toggleable__label-arrow:before {content: \"▾\";}#sk-container-id-1 div.sk-estimator input.sk-toggleable__control:checked~label.sk-toggleable__label {background-color: #d4ebff;}#sk-container-id-1 div.sk-label input.sk-toggleable__control:checked~label.sk-toggleable__label {background-color: #d4ebff;}#sk-container-id-1 input.sk-hidden--visually {border: 0;clip: rect(1px 1px 1px 1px);clip: rect(1px, 1px, 1px, 1px);height: 1px;margin: -1px;overflow: hidden;padding: 0;position: absolute;width: 1px;}#sk-container-id-1 div.sk-estimator {font-family: monospace;background-color: #f0f8ff;border: 1px dotted black;border-radius: 0.25em;box-sizing: border-box;margin-bottom: 0.5em;}#sk-container-id-1 div.sk-estimator:hover {background-color: #d4ebff;}#sk-container-id-1 div.sk-parallel-item::after {content: \"\";width: 100%;border-bottom: 1px solid gray;flex-grow: 1;}#sk-container-id-1 div.sk-label:hover label.sk-toggleable__label {background-color: #d4ebff;}#sk-container-id-1 div.sk-serial::before {content: \"\";position: absolute;border-left: 1px solid gray;box-sizing: border-box;top: 0;bottom: 0;left: 50%;z-index: 0;}#sk-container-id-1 div.sk-serial {display: flex;flex-direction: column;align-items: center;background-color: white;padding-right: 0.2em;padding-left: 0.2em;position: relative;}#sk-container-id-1 div.sk-item {position: relative;z-index: 1;}#sk-container-id-1 div.sk-parallel {display: flex;align-items: stretch;justify-content: center;background-color: white;position: relative;}#sk-container-id-1 div.sk-item::before, #sk-container-id-1 div.sk-parallel-item::before {content: \"\";position: absolute;border-left: 1px solid gray;box-sizing: border-box;top: 0;bottom: 0;left: 50%;z-index: -1;}#sk-container-id-1 div.sk-parallel-item {display: flex;flex-direction: column;z-index: 1;position: relative;background-color: white;}#sk-container-id-1 div.sk-parallel-item:first-child::after {align-self: flex-end;width: 50%;}#sk-container-id-1 div.sk-parallel-item:last-child::after {align-self: flex-start;width: 50%;}#sk-container-id-1 div.sk-parallel-item:only-child::after {width: 0;}#sk-container-id-1 div.sk-dashed-wrapped {border: 1px dashed gray;margin: 0 0.4em 0.5em 0.4em;box-sizing: border-box;padding-bottom: 0.4em;background-color: white;}#sk-container-id-1 div.sk-label label {font-family: monospace;font-weight: bold;display: inline-block;line-height: 1.2em;}#sk-container-id-1 div.sk-label-container {text-align: center;}#sk-container-id-1 div.sk-container {/* jupyter's `normalize.less` sets `[hidden] { display: none; }` but bootstrap.min.css set `[hidden] { display: none !important; }` so we also need the `!important` here to be able to override the default hidden behavior on the sphinx rendered scikit-learn.org. See: https://github.com/scikit-learn/scikit-learn/issues/21755 */display: inline-block !important;position: relative;}#sk-container-id-1 div.sk-text-repr-fallback {display: none;}</style><div id=\"sk-container-id-1\" class=\"sk-top-container\"><div class=\"sk-text-repr-fallback\"><pre>LogisticRegression(max_iter=1000)</pre><b>In a Jupyter environment, please rerun this cell to show the HTML representation or trust the notebook. <br />On GitHub, the HTML representation is unable to render, please try loading this page with nbviewer.org.</b></div><div class=\"sk-container\" hidden><div class=\"sk-item\"><div class=\"sk-estimator sk-toggleable\"><input class=\"sk-toggleable__control sk-hidden--visually\" id=\"sk-estimator-id-1\" type=\"checkbox\" checked><label for=\"sk-estimator-id-1\" class=\"sk-toggleable__label sk-toggleable__label-arrow\">LogisticRegression</label><div class=\"sk-toggleable__content\"><pre>LogisticRegression(max_iter=1000)</pre></div></div></div></div></div>"
      ],
      "text/plain": [
       "LogisticRegression(max_iter=1000)"
      ]
     },
     "execution_count": 36,
     "metadata": {},
     "output_type": "execute_result"
    }
   ],
   "source": [
    "#sklearn has built in logistic regression, so I use that\n",
    "from sklearn.linear_model import LogisticRegression\n",
    "\n",
    "model = LogisticRegression(max_iter=1000)\n",
    "model.fit(X_train_scaled, Y_train)"
   ]
  },
  {
   "cell_type": "code",
   "execution_count": 38,
   "id": "a5a9dcf0",
   "metadata": {},
   "outputs": [
    {
     "name": "stdout",
     "output_type": "stream",
     "text": [
      "Accuracy: 0.7201365187713311\n",
      "Confusion Matrix:\n",
      " [[734 186]\n",
      " [224 321]]\n",
      "Classification Report:\n",
      "               precision    recall  f1-score   support\n",
      "\n",
      "           0       0.77      0.80      0.78       920\n",
      "           1       0.63      0.59      0.61       545\n",
      "\n",
      "    accuracy                           0.72      1465\n",
      "   macro avg       0.70      0.69      0.70      1465\n",
      "weighted avg       0.72      0.72      0.72      1465\n",
      "\n"
     ]
    }
   ],
   "source": [
    "#How'd it do!\n",
    "from sklearn.metrics import accuracy_score, confusion_matrix, classification_report\n",
    "\n",
    "Y_pred = model.predict(X_test_scaled)\n",
    "\n",
    "print(\"Accuracy:\", accuracy_score(Y_test, Y_pred))\n",
    "print(\"Confusion Matrix:\\n\", confusion_matrix(Y_test, Y_pred))\n",
    "print(\"Classification Report:\\n\", classification_report(Y_test, Y_pred))"
   ]
  },
  {
   "cell_type": "code",
   "execution_count": 39,
   "id": "76da205d",
   "metadata": {},
   "outputs": [],
   "source": [
    "#Gets an accuracy of only 734+321/1465 ~ 0.72 huh?\n",
    "#Kind of want to do better than that!"
   ]
  },
  {
   "cell_type": "code",
   "execution_count": 41,
   "id": "fe63eb74",
   "metadata": {},
   "outputs": [
    {
     "data": {
      "image/png": "[encoded data removed]",
      "text/plain": [
       "<Figure size 640x480 with 1 Axes>"
      ]
     },
     "metadata": {},
     "output_type": "display_data"
    }
   ],
   "source": [
    "#Here's an ROC curve\n",
    "#Area under curve is 0.8/1, not bad!\n",
    "from sklearn.metrics import roc_curve, auc\n",
    "import matplotlib.pyplot as plt\n",
    "\n",
    "Y_prob = model.predict_proba(X_test_scaled)[:, 1]\n",
    "fpr, tpr, _ = roc_curve(Y_test, Y_prob)\n",
    "roc_auc = auc(fpr, tpr)\n",
    "\n",
    "plt.figure()\n",
    "plt.plot(fpr, tpr, label=f'ROC Curve (area = {roc_auc:.2f})')\n",
    "plt.plot([0, 1], [0, 1], 'k--')\n",
    "plt.xlabel('False Positive Rate')\n",
    "plt.ylabel('True Positive Rate')\n",
    "plt.title('ROC Curve')\n",
    "plt.legend()\n",
    "plt.show()"
   ]
  },
  {
   "cell_type": "code",
   "execution_count": 43,
   "id": "5f59d0ab",
   "metadata": {},
   "outputs": [
    {
     "name": "stdout",
     "output_type": "stream",
     "text": [
      "        Feature  Coefficient\n",
      "2     koi_depth    -5.987669\n",
      "6      koi_srad    -4.876084\n",
      "3      koi_prad    -4.029226\n",
      "5     koi_slogg    -0.787212\n",
      "4     koi_steff    -0.614741\n",
      "0    koi_period    -0.361522\n",
      "1  koi_duration    -0.267808\n"
     ]
    }
   ],
   "source": [
    "#Now try to figure out which features have the largest weights in the regression\n",
    "coef_df = pd.DataFrame({\n",
    "    \"Feature\": features,\n",
    "    \"Coefficient\": model.coef_[0]\n",
    "})\n",
    "print(coef_df.sort_values(by=\"Coefficient\", key=abs, ascending=False))"
   ]
  },
  {
   "cell_type": "code",
   "execution_count": 68,
   "id": "383fc043",
   "metadata": {},
   "outputs": [],
   "source": [
    "#Seems that the most important features are the transit depth, the radius of the planet and the radius of the star.\n",
    "#Together, these factors determine the sizes of the planet and star, which seem to be the most important physical features.\n",
    "#Maybe a little odd that the temperature of the star and the transit duration are not more important!"
   ]
  },
  {
   "cell_type": "code",
   "execution_count": 84,
   "id": "01041ed9",
   "metadata": {},
   "outputs": [],
   "source": [
    "#Let's try and visualise how the planet and stellar radii affect the classification\n",
    "#We'll consider how an input with mean values for other values\n",
    "#and a chosen planetary and stellar radius is classified\n",
    "import numpy as np\n",
    "import matplotlib.pyplot as plt\n",
    "\n",
    "# Get means of all features\n",
    "X_means = X_test_scaled.mean(axis=0)\n",
    "\n",
    "# Index positions for koi_depth and koi_srad in feature list\n",
    "prad_idx = features.index('koi_prad')\n",
    "srad_idx = features.index('koi_srad')\n",
    "\n",
    "# Create meshgrid in koi_depth and koi_srad dimensions\n",
    "x = np.linspace(X_test_scaled[:, prad_idx].min(), X_test_scaled[:, prad_idx].max()-25, 100)\n",
    "y = np.linspace(X_test_scaled[:, srad_idx].min(), X_test_scaled[:, srad_idx].max()-70, 100)\n",
    "xx, yy = np.meshgrid(x, y)\n",
    "\n",
    "# Create input for prediction: vary koi_depth and koi_srad, keep others fixed\n",
    "grid = np.tile(X_means, (xx.ravel().shape[0], 1))\n",
    "grid[:, prad_idx] = xx.ravel()\n",
    "grid[:, srad_idx] = yy.ravel()\n",
    "\n",
    "# Predict probabilities\n",
    "Z = model.predict_proba(grid)[:, 1].reshape(xx.shape)"
   ]
  },
  {
   "cell_type": "code",
   "execution_count": 85,
   "id": "2d9f03a8",
   "metadata": {},
   "outputs": [
    {
     "data": {
      "image/png": "[encoded data removed]",
      "text/plain": [
       "<Figure size 800x600 with 2 Axes>"
      ]
     },
     "metadata": {},
     "output_type": "display_data"
    }
   ],
   "source": [
    "plt.figure(figsize=(8, 6))\n",
    "contour = plt.contourf(xx, yy, Z, levels=20, cmap='coolwarm', alpha=0.8)\n",
    "plt.colorbar(contour, label='Predicted Probability of Confirmed')\n",
    "plt.xlabel('Standardized planet radius')\n",
    "plt.ylabel('Standardized star radius')\n",
    "plt.title('Effect of planet radius and star radius (Other features set to mean)')\n",
    "plt.show()"
   ]
  },
  {
   "cell_type": "code",
   "execution_count": 86,
   "id": "1e0ca010",
   "metadata": {},
   "outputs": [],
   "source": [
    "#We can see that for the observation to have a higher likelihood of being classified as an exoplanet,\n",
    "#we prefer that the observed stellar radius is not to large for the planetary radius"
   ]
  },
  {
   "cell_type": "code",
   "execution_count": 116,
   "id": "1e761067",
   "metadata": {},
   "outputs": [],
   "source": [
    "#Let's try doing this all again looking more carefully at the data!"
   ]
  },
  {
   "cell_type": "markdown",
   "id": "995b971b",
   "metadata": {},
   "source": [
    "Conclusions so far: Logistic Regression performs okay at 72% accuracy.\n",
    "Transit depth and stellar/planetary radii have the largest magnitude coefficients."
   ]
  },
  {
   "cell_type": "markdown",
   "id": "b53b8bc6",
   "metadata": {},
   "source": [
    "If we studied the data more, can we do better, let's see!"
   ]
  },
  {
   "cell_type": "code",
   "execution_count": 313,
   "id": "97013ad1",
   "metadata": {},
   "outputs": [
    {
     "name": "stdout",
     "output_type": "stream",
     "text": [
      "(9564, 141)\n",
      "(7325, 7)\n"
     ]
    }
   ],
   "source": [
    "import pandas as pd\n",
    "\n",
    "df = pd.read_csv(\"cumulative_2025.05.15_00.08.33.csv\", comment='#')  # some files have metadata comments\n",
    "print(df.shape)\n",
    "#Remove candidate planets\n",
    "df = df[df['koi_disposition'].isin(['CONFIRMED', 'FALSE POSITIVE'])]\n",
    "#Create a binary is_candidate entry to classify against\n",
    "df['is_candidate'] = df['koi_disposition'].map({'CONFIRMED': 1, 'FALSE POSITIVE': 0})\n",
    "features = [\n",
    "    'koi_period',      # orbital period\n",
    "    'koi_duration',    # transit duration\n",
    "    'koi_depth',       # transit depth\n",
    "    'koi_prad',        # planet radius\n",
    "    'koi_steff',       # stellar temperature\n",
    "    'koi_slogg',       # log surface gravity\n",
    "    'koi_srad'         # stellar radius\n",
    "]\n",
    "\n",
    "#Capital X and Y\n",
    "X = df[features]\n",
    "Y = df['is_candidate']\n",
    "#No missing values please!\n",
    "X = X.dropna()\n",
    "Y = Y.loc[X.index]\n",
    "print(X.shape)"
   ]
  },
  {
   "cell_type": "markdown",
   "id": "1e94ce2c",
   "metadata": {},
   "source": [
    "Planetary radius was important earlier, how does it vary?"
   ]
  },
  {
   "cell_type": "code",
   "execution_count": 314,
   "id": "b40c55fc",
   "metadata": {
    "scrolled": false
   },
   "outputs": [
    {
     "name": "stdout",
     "output_type": "stream",
     "text": [
      "0.08\n",
      "200346.0\n"
     ]
    }
   ],
   "source": [
    "prad_idx = features.index('koi_prad')\n",
    "X_nums = np.array(X)\n",
    "print(X_nums[:, prad_idx].min())\n",
    "print(X_nums[:, prad_idx].max())"
   ]
  },
  {
   "cell_type": "markdown",
   "id": "0bdf09f9",
   "metadata": {},
   "source": [
    "Has a fairly large range, what's the range for the other features look like?"
   ]
  },
  {
   "cell_type": "code",
   "execution_count": 315,
   "id": "3df85062",
   "metadata": {},
   "outputs": [
    {
     "name": "stdout",
     "output_type": "stream",
     "text": [
      "orbital period: 0.241842544 - 1071.232624\n",
      "transit duration: 0.1046 - 138.54\n",
      "transit depth: 0.8 - 1541400.0\n",
      "planet radius: 0.08 - 200346.0\n",
      "stellar temperature: 2661.0 - 15896.0\n",
      "log surface gravity: 0.047 - 5.283\n",
      "stellar radius: 0.116 - 229.908\n"
     ]
    }
   ],
   "source": [
    "#Planetary Radii vary over an order of magnitude\n",
    "#How does the range vary for other parameters?\n",
    "feature_names = [\n",
    "    'orbital period',\n",
    "    'transit duration',\n",
    "    'transit depth',\n",
    "    'planet radius',\n",
    "    'stellar temperature',\n",
    "    'log surface gravity',\n",
    "    'stellar radius'\n",
    "]\n",
    "for feature in features:\n",
    "    idx = features.index(feature)\n",
    "    name = feature_names[idx]\n",
    "    print(name + ':', X_nums[:, idx].min(), '-', X_nums[:, idx].max())"
   ]
  },
  {
   "cell_type": "code",
   "execution_count": 316,
   "id": "ae4af07c",
   "metadata": {},
   "outputs": [],
   "source": [
    "#The transit depth is a ratio in ppm, how can it have a maximum of more than 1000000 !\n",
    "#Clearly an outlier/error, so we should remove that"
   ]
  },
  {
   "cell_type": "code",
   "execution_count": 317,
   "id": "8e3df3ac",
   "metadata": {},
   "outputs": [
    {
     "data": {
      "text/plain": [
       "(7325, 7)"
      ]
     },
     "execution_count": 317,
     "metadata": {},
     "output_type": "execute_result"
    }
   ],
   "source": [
    "X.shape"
   ]
  },
  {
   "cell_type": "code",
   "execution_count": 318,
   "id": "e168b1f8",
   "metadata": {},
   "outputs": [
    {
     "name": "stdout",
     "output_type": "stream",
     "text": [
      "1541400.0\n"
     ]
    }
   ],
   "source": [
    "X_nums = np.array(X)\n",
    "depth_idx = features.index('koi_depth')\n",
    "print(X_nums[:, depth_idx].max())"
   ]
  },
  {
   "cell_type": "code",
   "execution_count": 319,
   "id": "17509082",
   "metadata": {},
   "outputs": [],
   "source": [
    "not_outlier = X['koi_depth'] < 1000000\n",
    "X = X[not_outlier]\n",
    "Y = Y[not_outlier]"
   ]
  },
  {
   "cell_type": "code",
   "execution_count": 320,
   "id": "5d1b5199",
   "metadata": {},
   "outputs": [
    {
     "data": {
      "text/plain": [
       "(7324, 7)"
      ]
     },
     "execution_count": 320,
     "metadata": {},
     "output_type": "execute_result"
    }
   ],
   "source": [
    "X.shape"
   ]
  },
  {
   "cell_type": "code",
   "execution_count": 321,
   "id": "4fa2b0c5",
   "metadata": {},
   "outputs": [
    {
     "name": "stdout",
     "output_type": "stream",
     "text": [
      "921670.0\n",
      "200346.0\n"
     ]
    }
   ],
   "source": [
    "X_nums = np.array(X)\n",
    "depth_idx = features.index('koi_depth')\n",
    "print(X_nums[:, depth_idx].max())\n",
    "print(X_nums[:, prad_idx].max())"
   ]
  },
  {
   "cell_type": "code",
   "execution_count": 322,
   "id": "8ba398da",
   "metadata": {},
   "outputs": [],
   "source": [
    "#Anomaly removed!"
   ]
  },
  {
   "cell_type": "code",
   "execution_count": 323,
   "id": "e1807f3e",
   "metadata": {
    "scrolled": false
   },
   "outputs": [
    {
     "name": "stdout",
     "output_type": "stream",
     "text": [
      "orbital period: 0.241842544 - 1071.232624\n",
      "transit duration: 0.1046 - 138.54\n",
      "transit depth: 0.8 - 921670.0\n",
      "planet radius: 0.08 - 200346.0\n",
      "stellar temperature: 2661.0 - 15896.0\n",
      "log surface gravity: 0.047 - 5.283\n",
      "stellar radius: 0.116 - 229.908\n"
     ]
    }
   ],
   "source": [
    "for feature in features:\n",
    "    idx = features.index(feature)\n",
    "    name = feature_names[idx]\n",
    "    print(name + ':', X_nums[:, idx].min(), '-', X_nums[:, idx].max())"
   ]
  },
  {
   "cell_type": "code",
   "execution_count": 324,
   "id": "69b9d7c5",
   "metadata": {},
   "outputs": [],
   "source": [
    "#Now, since we have a number of features which vary over many orders of magnitude,\n",
    "#let's try the regression again with a robust scaling"
   ]
  },
  {
   "cell_type": "markdown",
   "id": "005eac4c",
   "metadata": {},
   "source": [
    "Because of the many features varying over many order of magnitude it seems wise to try robust scaling (uses interquartile range and median instead of standard deviation and mean)."
   ]
  },
  {
   "cell_type": "code",
   "execution_count": 339,
   "id": "f99790ba",
   "metadata": {},
   "outputs": [],
   "source": [
    "#Let's try logistic regression again!\n",
    "from sklearn.model_selection import train_test_split\n",
    "X_train, X_test, Y_train, Y_test = train_test_split(X, Y, test_size=0.2, random_state=45)"
   ]
  },
  {
   "cell_type": "code",
   "execution_count": 326,
   "id": "a91ed468",
   "metadata": {},
   "outputs": [],
   "source": [
    "from sklearn.preprocessing import RobustScaler\n",
    "\n",
    "scaler = RobustScaler()\n",
    "X_train_scaled = scaler.fit_transform(X_train)\n",
    "X_test_scaled = scaler.transform(X_test)"
   ]
  },
  {
   "cell_type": "code",
   "execution_count": 327,
   "id": "ac2f3d9d",
   "metadata": {},
   "outputs": [
    {
     "data": {
      "text/html": [
       "<style>#sk-container-id-9 {color: black;background-color: white;}#sk-container-id-9 pre{padding: 0;}#sk-container-id-9 div.sk-toggleable {background-color: white;}#sk-container-id-9 label.sk-toggleable__label {cursor: pointer;display: block;width: 100%;margin-bottom: 0;padding: 0.3em;box-sizing: border-box;text-align: center;}#sk-container-id-9 label.sk-toggleable__label-arrow:before {content: \"▸\";float: left;margin-right: 0.25em;color: #696969;}#sk-container-id-9 label.sk-toggleable__label-arrow:hover:before {color: black;}#sk-container-id-9 div.sk-estimator:hover label.sk-toggleable__label-arrow:before {color: black;}#sk-container-id-9 div.sk-toggleable__content {max-height: 0;max-width: 0;overflow: hidden;text-align: left;background-color: #f0f8ff;}#sk-container-id-9 div.sk-toggleable__content pre {margin: 0.2em;color: black;border-radius: 0.25em;background-color: #f0f8ff;}#sk-container-id-9 input.sk-toggleable__control:checked~div.sk-toggleable__content {max-height: 200px;max-width: 100%;overflow: auto;}#sk-container-id-9 input.sk-toggleable__control:checked~label.sk-toggleable__label-arrow:before {content: \"▾\";}#sk-container-id-9 div.sk-estimator input.sk-toggleable__control:checked~label.sk-toggleable__label {background-color: #d4ebff;}#sk-container-id-9 div.sk-label input.sk-toggleable__control:checked~label.sk-toggleable__label {background-color: #d4ebff;}#sk-container-id-9 input.sk-hidden--visually {border: 0;clip: rect(1px 1px 1px 1px);clip: rect(1px, 1px, 1px, 1px);height: 1px;margin: -1px;overflow: hidden;padding: 0;position: absolute;width: 1px;}#sk-container-id-9 div.sk-estimator {font-family: monospace;background-color: #f0f8ff;border: 1px dotted black;border-radius: 0.25em;box-sizing: border-box;margin-bottom: 0.5em;}#sk-container-id-9 div.sk-estimator:hover {background-color: #d4ebff;}#sk-container-id-9 div.sk-parallel-item::after {content: \"\";width: 100%;border-bottom: 1px solid gray;flex-grow: 1;}#sk-container-id-9 div.sk-label:hover label.sk-toggleable__label {background-color: #d4ebff;}#sk-container-id-9 div.sk-serial::before {content: \"\";position: absolute;border-left: 1px solid gray;box-sizing: border-box;top: 0;bottom: 0;left: 50%;z-index: 0;}#sk-container-id-9 div.sk-serial {display: flex;flex-direction: column;align-items: center;background-color: white;padding-right: 0.2em;padding-left: 0.2em;position: relative;}#sk-container-id-9 div.sk-item {position: relative;z-index: 1;}#sk-container-id-9 div.sk-parallel {display: flex;align-items: stretch;justify-content: center;background-color: white;position: relative;}#sk-container-id-9 div.sk-item::before, #sk-container-id-9 div.sk-parallel-item::before {content: \"\";position: absolute;border-left: 1px solid gray;box-sizing: border-box;top: 0;bottom: 0;left: 50%;z-index: -1;}#sk-container-id-9 div.sk-parallel-item {display: flex;flex-direction: column;z-index: 1;position: relative;background-color: white;}#sk-container-id-9 div.sk-parallel-item:first-child::after {align-self: flex-end;width: 50%;}#sk-container-id-9 div.sk-parallel-item:last-child::after {align-self: flex-start;width: 50%;}#sk-container-id-9 div.sk-parallel-item:only-child::after {width: 0;}#sk-container-id-9 div.sk-dashed-wrapped {border: 1px dashed gray;margin: 0 0.4em 0.5em 0.4em;box-sizing: border-box;padding-bottom: 0.4em;background-color: white;}#sk-container-id-9 div.sk-label label {font-family: monospace;font-weight: bold;display: inline-block;line-height: 1.2em;}#sk-container-id-9 div.sk-label-container {text-align: center;}#sk-container-id-9 div.sk-container {/* jupyter's `normalize.less` sets `[hidden] { display: none; }` but bootstrap.min.css set `[hidden] { display: none !important; }` so we also need the `!important` here to be able to override the default hidden behavior on the sphinx rendered scikit-learn.org. See: https://github.com/scikit-learn/scikit-learn/issues/21755 */display: inline-block !important;position: relative;}#sk-container-id-9 div.sk-text-repr-fallback {display: none;}</style><div id=\"sk-container-id-9\" class=\"sk-top-container\"><div class=\"sk-text-repr-fallback\"><pre>LogisticRegression(max_iter=1000)</pre><b>In a Jupyter environment, please rerun this cell to show the HTML representation or trust the notebook. <br />On GitHub, the HTML representation is unable to render, please try loading this page with nbviewer.org.</b></div><div class=\"sk-container\" hidden><div class=\"sk-item\"><div class=\"sk-estimator sk-toggleable\"><input class=\"sk-toggleable__control sk-hidden--visually\" id=\"sk-estimator-id-9\" type=\"checkbox\" checked><label for=\"sk-estimator-id-9\" class=\"sk-toggleable__label sk-toggleable__label-arrow\">LogisticRegression</label><div class=\"sk-toggleable__content\"><pre>LogisticRegression(max_iter=1000)</pre></div></div></div></div></div>"
      ],
      "text/plain": [
       "LogisticRegression(max_iter=1000)"
      ]
     },
     "execution_count": 327,
     "metadata": {},
     "output_type": "execute_result"
    }
   ],
   "source": [
    "#sklearn has built in logistic regression, so I use that\n",
    "from sklearn.linear_model import LogisticRegression\n",
    "\n",
    "model = LogisticRegression(max_iter=1000)\n",
    "model.fit(X_train_scaled, Y_train)"
   ]
  },
  {
   "cell_type": "code",
   "execution_count": 328,
   "id": "4fd41425",
   "metadata": {},
   "outputs": [
    {
     "name": "stdout",
     "output_type": "stream",
     "text": [
      "Accuracy: 0.7385665529010239\n",
      "Confusion Matrix:\n",
      " [[678 239]\n",
      " [144 404]]\n",
      "Classification Report:\n",
      "               precision    recall  f1-score   support\n",
      "\n",
      "           0       0.82      0.74      0.78       917\n",
      "           1       0.63      0.74      0.68       548\n",
      "\n",
      "    accuracy                           0.74      1465\n",
      "   macro avg       0.73      0.74      0.73      1465\n",
      "weighted avg       0.75      0.74      0.74      1465\n",
      "\n"
     ]
    }
   ],
   "source": [
    "#How'd it do!\n",
    "from sklearn.metrics import accuracy_score, confusion_matrix, classification_report\n",
    "\n",
    "Y_pred = model.predict(X_test_scaled)\n",
    "\n",
    "print(\"Accuracy:\", accuracy_score(Y_test, Y_pred))\n",
    "print(\"Confusion Matrix:\\n\", confusion_matrix(Y_test, Y_pred))\n",
    "print(\"Classification Report:\\n\", classification_report(Y_test, Y_pred))"
   ]
  },
  {
   "cell_type": "code",
   "execution_count": 329,
   "id": "1a856ddb",
   "metadata": {
    "scrolled": true
   },
   "outputs": [
    {
     "data": {
      "image/png": "[encoded data removed]",
      "text/plain": [
       "<Figure size 640x480 with 1 Axes>"
      ]
     },
     "metadata": {},
     "output_type": "display_data"
    }
   ],
   "source": [
    "#Here's an ROC curve again\n",
    "from sklearn.metrics import roc_curve, auc\n",
    "import matplotlib.pyplot as plt\n",
    "\n",
    "Y_prob = model.predict_proba(X_test_scaled)[:, 1]\n",
    "fpr, tpr, _ = roc_curve(Y_test, Y_prob)\n",
    "roc_auc = auc(fpr, tpr)\n",
    "\n",
    "plt.figure()\n",
    "plt.plot(fpr, tpr, label=f'ROC Curve (area = {roc_auc:.2f})')\n",
    "plt.plot([0, 1], [0, 1], 'k--')\n",
    "plt.xlabel('False Positive Rate')\n",
    "plt.ylabel('True Positive Rate')\n",
    "plt.title('ROC Curve')\n",
    "plt.legend()\n",
    "plt.show()"
   ]
  },
  {
   "cell_type": "code",
   "execution_count": 330,
   "id": "ff318cd6",
   "metadata": {},
   "outputs": [
    {
     "name": "stdout",
     "output_type": "stream",
     "text": [
      "        Feature  Coefficient\n",
      "3      koi_prad    -2.122615\n",
      "5     koi_slogg    -1.102713\n",
      "4     koi_steff    -0.636821\n",
      "6      koi_srad    -0.623460\n",
      "1  koi_duration    -0.107741\n",
      "0    koi_period    -0.102102\n",
      "2     koi_depth    -0.035225\n"
     ]
    }
   ],
   "source": [
    "#Now try to figure out which features have the largest weights in the regression\n",
    "coef_df = pd.DataFrame({\n",
    "    \"Feature\": features,\n",
    "    \"Coefficient\": model.coef_[0]\n",
    "})\n",
    "print(coef_df.sort_values(by=\"Coefficient\", key=abs, ascending=False))"
   ]
  },
  {
   "cell_type": "code",
   "execution_count": null,
   "id": "554ccbc7",
   "metadata": {},
   "outputs": [],
   "source": [
    "#Interestingly, with robust scaling, we find very different coefficients!\n",
    "#Planetary radius is still important, but now effective temperature and surface gravity\n",
    "#Are considered more important than the stellar radius of transit depth"
   ]
  },
  {
   "cell_type": "code",
   "execution_count": 331,
   "id": "963b9b35",
   "metadata": {},
   "outputs": [],
   "source": [
    "#Performs slightly better than the standard (linear) scaling, with a 74% accuracy,\n",
    "#but otherwise performance not much different"
   ]
  },
  {
   "cell_type": "markdown",
   "id": "d69ba79d",
   "metadata": {},
   "source": [
    "Conclusions: We can find anomalies by looking at the maxima/minima of our ranges for each feature.\n",
    "Different types of scaling can have some affect on the accuracy, but more significantly,\n",
    "can have a large affect on which features are prioritised by the regression! "
   ]
  },
  {
   "cell_type": "markdown",
   "id": "49d3db2b",
   "metadata": {},
   "source": [
    "## XGBoost"
   ]
  },
  {
   "cell_type": "code",
   "execution_count": 332,
   "id": "c83aee65",
   "metadata": {},
   "outputs": [],
   "source": [
    "#Let's also try XGBoost and see what happens!"
   ]
  },
  {
   "cell_type": "code",
   "execution_count": 333,
   "id": "6458e194",
   "metadata": {},
   "outputs": [
    {
     "data": {
      "text/html": [
       "<style>#sk-container-id-10 {color: black;background-color: white;}#sk-container-id-10 pre{padding: 0;}#sk-container-id-10 div.sk-toggleable {background-color: white;}#sk-container-id-10 label.sk-toggleable__label {cursor: pointer;display: block;width: 100%;margin-bottom: 0;padding: 0.3em;box-sizing: border-box;text-align: center;}#sk-container-id-10 label.sk-toggleable__label-arrow:before {content: \"▸\";float: left;margin-right: 0.25em;color: #696969;}#sk-container-id-10 label.sk-toggleable__label-arrow:hover:before {color: black;}#sk-container-id-10 div.sk-estimator:hover label.sk-toggleable__label-arrow:before {color: black;}#sk-container-id-10 div.sk-toggleable__content {max-height: 0;max-width: 0;overflow: hidden;text-align: left;background-color: #f0f8ff;}#sk-container-id-10 div.sk-toggleable__content pre {margin: 0.2em;color: black;border-radius: 0.25em;background-color: #f0f8ff;}#sk-container-id-10 input.sk-toggleable__control:checked~div.sk-toggleable__content {max-height: 200px;max-width: 100%;overflow: auto;}#sk-container-id-10 input.sk-toggleable__control:checked~label.sk-toggleable__label-arrow:before {content: \"▾\";}#sk-container-id-10 div.sk-estimator input.sk-toggleable__control:checked~label.sk-toggleable__label {background-color: #d4ebff;}#sk-container-id-10 div.sk-label input.sk-toggleable__control:checked~label.sk-toggleable__label {background-color: #d4ebff;}#sk-container-id-10 input.sk-hidden--visually {border: 0;clip: rect(1px 1px 1px 1px);clip: rect(1px, 1px, 1px, 1px);height: 1px;margin: -1px;overflow: hidden;padding: 0;position: absolute;width: 1px;}#sk-container-id-10 div.sk-estimator {font-family: monospace;background-color: #f0f8ff;border: 1px dotted black;border-radius: 0.25em;box-sizing: border-box;margin-bottom: 0.5em;}#sk-container-id-10 div.sk-estimator:hover {background-color: #d4ebff;}#sk-container-id-10 div.sk-parallel-item::after {content: \"\";width: 100%;border-bottom: 1px solid gray;flex-grow: 1;}#sk-container-id-10 div.sk-label:hover label.sk-toggleable__label {background-color: #d4ebff;}#sk-container-id-10 div.sk-serial::before {content: \"\";position: absolute;border-left: 1px solid gray;box-sizing: border-box;top: 0;bottom: 0;left: 50%;z-index: 0;}#sk-container-id-10 div.sk-serial {display: flex;flex-direction: column;align-items: center;background-color: white;padding-right: 0.2em;padding-left: 0.2em;position: relative;}#sk-container-id-10 div.sk-item {position: relative;z-index: 1;}#sk-container-id-10 div.sk-parallel {display: flex;align-items: stretch;justify-content: center;background-color: white;position: relative;}#sk-container-id-10 div.sk-item::before, #sk-container-id-10 div.sk-parallel-item::before {content: \"\";position: absolute;border-left: 1px solid gray;box-sizing: border-box;top: 0;bottom: 0;left: 50%;z-index: -1;}#sk-container-id-10 div.sk-parallel-item {display: flex;flex-direction: column;z-index: 1;position: relative;background-color: white;}#sk-container-id-10 div.sk-parallel-item:first-child::after {align-self: flex-end;width: 50%;}#sk-container-id-10 div.sk-parallel-item:last-child::after {align-self: flex-start;width: 50%;}#sk-container-id-10 div.sk-parallel-item:only-child::after {width: 0;}#sk-container-id-10 div.sk-dashed-wrapped {border: 1px dashed gray;margin: 0 0.4em 0.5em 0.4em;box-sizing: border-box;padding-bottom: 0.4em;background-color: white;}#sk-container-id-10 div.sk-label label {font-family: monospace;font-weight: bold;display: inline-block;line-height: 1.2em;}#sk-container-id-10 div.sk-label-container {text-align: center;}#sk-container-id-10 div.sk-container {/* jupyter's `normalize.less` sets `[hidden] { display: none; }` but bootstrap.min.css set `[hidden] { display: none !important; }` so we also need the `!important` here to be able to override the default hidden behavior on the sphinx rendered scikit-learn.org. See: https://github.com/scikit-learn/scikit-learn/issues/21755 */display: inline-block !important;position: relative;}#sk-container-id-10 div.sk-text-repr-fallback {display: none;}</style><div id=\"sk-container-id-10\" class=\"sk-top-container\"><div class=\"sk-text-repr-fallback\"><pre>XGBClassifier(base_score=None, booster=None, callbacks=None,\n",
       "              colsample_bylevel=None, colsample_bynode=None,\n",
       "              colsample_bytree=None, device=None, early_stopping_rounds=None,\n",
       "              enable_categorical=False, eval_metric=&#x27;logloss&#x27;,\n",
       "              feature_types=None, gamma=None, grow_policy=None,\n",
       "              importance_type=None, interaction_constraints=None,\n",
       "              learning_rate=None, max_bin=None, max_cat_threshold=None,\n",
       "              max_cat_to_onehot=None, max_delta_step=None, max_depth=None,\n",
       "              max_leaves=None, min_child_weight=None, missing=nan,\n",
       "              monotone_constraints=None, multi_strategy=None, n_estimators=None,\n",
       "              n_jobs=None, num_parallel_tree=None, random_state=None, ...)</pre><b>In a Jupyter environment, please rerun this cell to show the HTML representation or trust the notebook. <br />On GitHub, the HTML representation is unable to render, please try loading this page with nbviewer.org.</b></div><div class=\"sk-container\" hidden><div class=\"sk-item\"><div class=\"sk-estimator sk-toggleable\"><input class=\"sk-toggleable__control sk-hidden--visually\" id=\"sk-estimator-id-10\" type=\"checkbox\" checked><label for=\"sk-estimator-id-10\" class=\"sk-toggleable__label sk-toggleable__label-arrow\">XGBClassifier</label><div class=\"sk-toggleable__content\"><pre>XGBClassifier(base_score=None, booster=None, callbacks=None,\n",
       "              colsample_bylevel=None, colsample_bynode=None,\n",
       "              colsample_bytree=None, device=None, early_stopping_rounds=None,\n",
       "              enable_categorical=False, eval_metric=&#x27;logloss&#x27;,\n",
       "              feature_types=None, gamma=None, grow_policy=None,\n",
       "              importance_type=None, interaction_constraints=None,\n",
       "              learning_rate=None, max_bin=None, max_cat_threshold=None,\n",
       "              max_cat_to_onehot=None, max_delta_step=None, max_depth=None,\n",
       "              max_leaves=None, min_child_weight=None, missing=nan,\n",
       "              monotone_constraints=None, multi_strategy=None, n_estimators=None,\n",
       "              n_jobs=None, num_parallel_tree=None, random_state=None, ...)</pre></div></div></div></div></div>"
      ],
      "text/plain": [
       "XGBClassifier(base_score=None, booster=None, callbacks=None,\n",
       "              colsample_bylevel=None, colsample_bynode=None,\n",
       "              colsample_bytree=None, device=None, early_stopping_rounds=None,\n",
       "              enable_categorical=False, eval_metric='logloss',\n",
       "              feature_types=None, gamma=None, grow_policy=None,\n",
       "              importance_type=None, interaction_constraints=None,\n",
       "              learning_rate=None, max_bin=None, max_cat_threshold=None,\n",
       "              max_cat_to_onehot=None, max_delta_step=None, max_depth=None,\n",
       "              max_leaves=None, min_child_weight=None, missing=nan,\n",
       "              monotone_constraints=None, multi_strategy=None, n_estimators=None,\n",
       "              n_jobs=None, num_parallel_tree=None, random_state=None, ...)"
      ]
     },
     "execution_count": 333,
     "metadata": {},
     "output_type": "execute_result"
    }
   ],
   "source": [
    "import xgboost as xgb\n",
    "model = xgb.XGBClassifier(use_label_encoder=False, eval_metric='logloss')\n",
    "model.fit(X_train, Y_train)"
   ]
  },
  {
   "cell_type": "code",
   "execution_count": 334,
   "id": "e8f809b8",
   "metadata": {},
   "outputs": [
    {
     "name": "stdout",
     "output_type": "stream",
     "text": [
      "Accuracy: 0.9003412969283277\n",
      "Confusion Matrix:\n",
      " [[844  73]\n",
      " [ 73 475]]\n",
      "Classification Report:\n",
      "               precision    recall  f1-score   support\n",
      "\n",
      "           0       0.92      0.92      0.92       917\n",
      "           1       0.87      0.87      0.87       548\n",
      "\n",
      "    accuracy                           0.90      1465\n",
      "   macro avg       0.89      0.89      0.89      1465\n",
      "weighted avg       0.90      0.90      0.90      1465\n",
      "\n"
     ]
    }
   ],
   "source": [
    "Y_pred = model.predict(X_test)\n",
    "\n",
    "print(\"Accuracy:\", accuracy_score(Y_test, Y_pred))\n",
    "print(\"Confusion Matrix:\\n\", confusion_matrix(Y_test, Y_pred))\n",
    "print(\"Classification Report:\\n\", classification_report(Y_test, Y_pred))"
   ]
  },
  {
   "cell_type": "code",
   "execution_count": 335,
   "id": "f48147e2",
   "metadata": {},
   "outputs": [
    {
     "data": {
      "image/png": "[encoded data removed]",
      "text/plain": [
       "<Figure size 640x480 with 1 Axes>"
      ]
     },
     "metadata": {},
     "output_type": "display_data"
    }
   ],
   "source": [
    "import matplotlib.pyplot as plt\n",
    "\n",
    "xgb.plot_importance(model, importance_type='gain')\n",
    "plt.title(\"Feature Importances (by Gain)\")\n",
    "plt.show()"
   ]
  },
  {
   "cell_type": "code",
   "execution_count": 336,
   "id": "148f87b5",
   "metadata": {},
   "outputs": [],
   "source": [
    "#Planetary radius is again very important, but now, we find that it's the orbital period and duration of transit\n",
    "#that are most relevant!"
   ]
  },
  {
   "cell_type": "code",
   "execution_count": 337,
   "id": "28dac6c4",
   "metadata": {},
   "outputs": [],
   "source": [
    "#Overall, Logistic Regressions gives an accuracy of 74% and XGBoost gives an accuracy of 90%\n",
    "#We consistently find that the planetary radius is the most salient feature across different models"
   ]
  },
  {
   "cell_type": "markdown",
   "id": "2c0678f9",
   "metadata": {},
   "source": [
    "Conclusions: We find that XGBoost performs rather better than the logistic regression, with a 90% accuracy compared to the previous 74% accuracy. Curiously we find that the relevant features have changed again, with the one exception of planetary radius, which is among the most important features for all of the models."
   ]
  },
  {
   "cell_type": "markdown",
   "id": "19d016d4",
   "metadata": {},
   "source": [
    "Ideas for next time: Can we try and more systematically find anomalies? How do we go about determining what method of scaling is best for logistic regression in a principled way? Can we interpret more precisely what it means for certain features to have large coefficients in the logistic regression? Also, we should try and implement/program logistic regression and random forest techniques for ourselves!"
   ]
  },
  {
   "cell_type": "code",
   "execution_count": null,
   "id": "60fdb6ec",
   "metadata": {},
   "outputs": [],
   "source": []
  }
 ],
 "metadata": {
  "kernelspec": {
   "display_name": "Python 3 (ipykernel)",
   "language": "python",
   "name": "python3"
  },
  "language_info": {
   "codemirror_mode": {
    "name": "ipython",
    "version": 3
   },
   "file_extension": ".py",
   "mimetype": "text/x-python",
   "name": "python",
   "nbconvert_exporter": "python",
   "pygments_lexer": "ipython3",
   "version": "3.8.16"
  }
 },
 "nbformat": 4,
 "nbformat_minor": 5
}
